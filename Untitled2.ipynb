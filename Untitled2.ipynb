{
  "nbformat": 4,
  "nbformat_minor": 0,
  "metadata": {
    "colab": {
      "provenance": []
    },
    "kernelspec": {
      "name": "python3",
      "display_name": "Python 3"
    },
    "language_info": {
      "name": "python"
    }
  },
  "cells": [
    {
      "cell_type": "markdown",
      "source": [],
      "metadata": {
        "id": "_Z2fqq8ADmvx"
      }
    },
    {
      "cell_type": "code",
      "execution_count": 44,
      "metadata": {
        "id": "L6yu0BsvbEdK"
      },
      "outputs": [],
      "source": [
        "import numpy as np\n",
        "\n",
        "def calc(lists):\n",
        "  if len(lists)==9:\n",
        "    array_t = np.array(lists)\n",
        "    array = array_t.reshape(3, 3)\n",
        "    calc = {\n",
        "        'mean': [np.mean(array, axis=0).tolist(),\n",
        "                 np.mean(array, axis=1).tolist(),\n",
        "                 np.mean(array.flatten())], #List's mean\n",
        "        'variance': [np.var(array, axis=0).tolist(),\n",
        "                     np.var(array, axis=1).tolist(),\n",
        "                     np.var(array.flatten())],\n",
        "        'standard deviation' : [np.std(array, axis=0).tolist(),\n",
        "                                np.std(array, axis=1).tolist(),\n",
        "                                np.std(array.flatten())],\n",
        "        'max' : [np.max(array, axis=0).tolist(),\n",
        "                 np.max(array, axis=1).tolist(),\n",
        "                 np.max(array.flatten())],\n",
        "        'min' : [np.min(array, axis=0).tolist(),\n",
        "                 np.min(array, axis=1).tolist(),\n",
        "                 np.min(array.flatten())],\n",
        "        'sum' : [np.sum(array, axis=0),\n",
        "                 np.sum(array, axis=1),\n",
        "                 np.sum(array.flatten())]\n",
        "        }\n",
        "  else:\n",
        "    raise ValueError('List must contain nine numbers')\n",
        "  return calc\n"
      ]
    },
    {
      "cell_type": "code",
      "source": [
        "import numpy as np"
      ],
      "metadata": {
        "id": "Y2KHTnBO7GR_"
      },
      "execution_count": 1,
      "outputs": []
    },
    {
      "cell_type": "code",
      "source": [
        "import numpy as np\n",
        "array_t = np.array([1,2,3,4,5,6,7,8,9])\n",
        "array = array_t.reshape(3, 3)\n",
        "\n",
        "\n",
        "#calculate([1,2,3,4,5,6,7,8,9])\n",
        "\n",
        "array.mean(axis=0)"
      ],
      "metadata": {
        "colab": {
          "base_uri": "https://localhost:8080/"
        },
        "id": "W6o9SQEY7QIi",
        "outputId": "ef1229f8-d53f-4a33-8866-58a9637adb0f"
      },
      "execution_count": 23,
      "outputs": [
        {
          "output_type": "execute_result",
          "data": {
            "text/plain": [
              "array([4., 5., 6.])"
            ]
          },
          "metadata": {},
          "execution_count": 23
        }
      ]
    }
  ]
}