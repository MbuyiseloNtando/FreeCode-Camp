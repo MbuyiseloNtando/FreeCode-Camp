{
  "nbformat": 4,
  "nbformat_minor": 0,
  "metadata": {
    "colab": {
      "provenance": [],
      "authorship_tag": "ABX9TyOTNzQRQ2uZ1rUfr1UJyxOL",
      "include_colab_link": true
    },
    "kernelspec": {
      "name": "python3",
      "display_name": "Python 3"
    },
    "language_info": {
      "name": "python"
    }
  },
  "cells": [
    {
      "cell_type": "markdown",
      "metadata": {
        "id": "view-in-github",
        "colab_type": "text"
      },
      "source": [
        "<a href=\"https://colab.research.google.com/github/MbuyiseloNtando/FreeCode-Camp/blob/main/Mean_Variance_Standard_Deviation_Calculator.ipynb\" target=\"_parent\"><img src=\"https://colab.research.google.com/assets/colab-badge.svg\" alt=\"Open In Colab\"/></a>"
      ]
    },
    {
      "cell_type": "markdown",
      "source": [],
      "metadata": {
        "id": "_Z2fqq8ADmvx"
      }
    },
    {
      "cell_type": "code",
      "execution_count": null,
      "metadata": {
        "id": "L6yu0BsvbEdK"
      },
      "outputs": [],
      "source": [
        "import numpy as np\n",
        "\n",
        "def calc(lists):\n",
        "  if len(lists)==9:\n",
        "    array_t = np.array(lists)\n",
        "    array = array_t.reshape(3, 3)\n",
        "    calc = {\n",
        "        'mean': [np.mean(array, axis=0).tolist(),\n",
        "                 np.mean(array, axis=1).tolist(),\n",
        "                 np.mean(array.flatten())], #List's mean\n",
        "        'variance': [np.var(array, axis=0).tolist(),\n",
        "                     np.var(array, axis=1).tolist(),\n",
        "                     np.var(array.flatten())],\n",
        "        'standard deviation' : [np.std(array, axis=0).tolist(),\n",
        "                                np.std(array, axis=1).tolist(),\n",
        "                                np.std(array.flatten())],\n",
        "        'max' : [np.max(array, axis=0).tolist(),\n",
        "                 np.max(array, axis=1).tolist(),\n",
        "                 np.max(array.flatten())],\n",
        "        'min' : [np.min(array, axis=0).tolist(),\n",
        "                 np.min(array, axis=1).tolist(),\n",
        "                 np.min(array.flatten())],\n",
        "        'sum' : [np.sum(array, axis=0),\n",
        "                 np.sum(array, axis=1),\n",
        "                 np.sum(array.flatten())]\n",
        "        }\n",
        "  else:\n",
        "    raise ValueError('List must contain nine numbers')\n",
        "  return calc\n"
      ]
    }
  ]
}